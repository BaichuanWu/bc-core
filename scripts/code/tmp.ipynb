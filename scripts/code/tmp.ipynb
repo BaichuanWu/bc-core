{
 "cells": [
  {
   "cell_type": "code",
   "execution_count": 19,
   "id": "c83e47bf",
   "metadata": {},
   "outputs": [
    {
     "name": "stdout",
     "output_type": "stream",
     "text": [
      "The autoreload extension is already loaded. To reload it, use:\n",
      "  %reload_ext autoreload\n"
     ]
    }
   ],
   "source": [
    "%load_ext autoreload\n",
    "%autoreload 2\n",
    "\n",
    "from init import init_code\n",
    "\n",
    "init_code()\n",
    "\n",
    "from app.services.quants.worldbrain import wqb_client, db\n",
    "# \n",
    "# wqb_client.get_operator_list().json()\n"
   ]
  },
  {
   "cell_type": "code",
   "execution_count": 16,
   "id": "112b5fcd",
   "metadata": {},
   "outputs": [],
   "source": [
    "# d = {\n",
    "#         \"type\": \"REGULAR\",\n",
    "#         \"settings\": {\n",
    "#             \"instrumentType\": \"EQUITY\",\n",
    "#             \"region\": \"USA\",\n",
    "#             \"universe\": \"TOP3000\",\n",
    "#             \"delay\": 1,\n",
    "#             \"decay\": 10,\n",
    "#             \"neutralization\": \"SUBINDUSTRY\",\n",
    "#             \"truncation\": 0.05,\n",
    "#             \"pasteurization\": \"ON\",\n",
    "#             \"testPeriod\": \"P0Y0M\",\n",
    "#             \"unitHandling\": \"VERIFY\",\n",
    "#             \"nanHandling\": \"ON\",\n",
    "#             \"maxTrade\": \"ON\",\n",
    "#             \"language\": \"FASTEXPR\",\n",
    "#             \"visualization\": False,\n",
    "#         },\n",
    "#         \"regular\": \"\"\"ranked_signal = ts_zscore(vec_sum(ern4_impliedee), 120);\n",
    "#         signal = group_zscore(ranked_signal,SUBINDUSTRY);\n",
    "#         ts_product(signal, 120)\"\"\",\n",
    "#     }\n",
    "\n",
    "# %load_ext autoreload\n",
    "# %autoreload 2\n",
    "\n",
    "# resp = await wqb_client.simulate_alpha(d)\n",
    "# print(resp)\n",
    "\n",
    "\n"
   ]
  },
  {
   "cell_type": "code",
   "execution_count": 20,
   "id": "fa526f4d",
   "metadata": {},
   "outputs": [
    {
     "data": {
      "text/plain": [
       "b'<html>\\r\\n<head><title>400 The plain HTTP request was sent to HTTPS port</title></head>\\r\\n<body>\\r\\n<center><h1>400 Bad Request</h1></center>\\r\\n<center>The plain HTTP request was sent to HTTPS port</center>\\r\\n</body>\\r\\n</html>\\r\\n'"
      ]
     },
     "execution_count": 20,
     "metadata": {},
     "output_type": "execute_result"
    }
   ],
   "source": [
    "\n",
    "resp = await wqb_client.wqb.submit(\"j2vExPXj\")\n",
    "resp.content"
   ]
  },
  {
   "cell_type": "markdown",
   "id": "6c021074",
   "metadata": {},
   "source": [
    "Idea:\n",
    "This factor measures the medium-term change in forecasted earnings strength relative to company size and compares it within each subindustry. It aims to capture firms showing improving earnings expectations adjusted for market capitalization.\n",
    "Rationale for Data Used:\n",
    "anl14_high_epsrep_fp1: Represents analysts’ high-end forward earnings-per-share (EPS) projections, indicating optimistic expectations about a firm’s future profitability.\n",
    "cap: Denotes market capitalization, used here to scale earnings forecasts and control for size effects—preventing large-cap firms from dominating the signal.\n",
    "Rationale for Operators Used:\n",
    "ts_delta(): Calculates the change in the scaled EPS forecast over the past 120 periods, reflecting medium-term growth momentum or sentiment shifts.\n",
    "group_rank(): Ranks companies within each subindustry to neutralize sectoral biases and focus on relative performance among comparable peers.\n",
    "\n",
    "\n",
    "Idea: In normal market conditions, if a stock is shorted more, its likelihood of bouncing back may also increase (reversion). However, in extreme cases where the consensus in the market is high reflecting in extremely high/low level of short interest, it may potentially be better to follow that trend\n",
    "Rationale for data used: shrt3_bar field is a vector data field representing the demand to borrow stock, with higher values indicating higher demand\n",
    "Rationale for operators used:\n",
    "vec_avg(): Calculates the average value of shrt3_bar for a given day\n",
    "Conditional operator: Separates normal cases from extreme ones\n",
    "ts_backfill: Handles NaN values in the data field, detected by checking the coverage with a visualization tool"
   ]
  },
  {
   "cell_type": "code",
   "execution_count": 18,
   "id": "3038be2a",
   "metadata": {},
   "outputs": [],
   "source": [
    "d= {\n",
    "  \"complex\": {\n",
    "    \"MATH_OP\": [\"\", \"log(x)\", \"signed_power(x, 2)\", \"sqrt(x)\", \"inverse(x)\", \"to_nan(x)\"],\n",
    "    \"VECTOR_OP\": [\"vec_avg(x)\"],\n",
    "    \"CROSS_OP\": [\"\", \"normalize(x)\", \"quantile(x)\", \"rank(x)\", \"scale(x)\", \"scale_down(x)\", \"zscore(x)\"],\n",
    "    \"TS_OP\": [\n",
    "      \"\",\n",
    "      \"ts_decay_linear(x, {DAY})\",\n",
    "      \"ts_rank(x, {DAY})\",\n",
    "      \"ts_arg_max(x, {DAY})\",\n",
    "      \"ts_arg_min(x, {DAY})\",\n",
    "      \"ts_scale(x, {DAY})\",\n",
    "      \"ts_zscore(x, {DAY})\",\n",
    "      \"ts_av_diff(x, {DAY})\",\n",
    "      \"ts_delta(x, {DAY})\",\n",
    "      \"ts_quantile(x, {DAY})\",\n",
    "      \"ts_std_dev(x, {DAY})\",\n",
    "      \"last_diff_value(x, {DAY})\",\n",
    "      \"days_from_last_change(x)\"\n",
    "    ],\n",
    "    \"GROUP_OP\": [\n",
    "      \"\",\n",
    "      \"group_rank(x, {GROUP_NAME})\",\n",
    "      \"group_mean(x, 1, {GROUP_NAME})\",\n",
    "      \"group_scale(x, {GROUP_NAME})\",\n",
    "      \"group_zscore(x, {GROUP_NAME})\",\n",
    "      \"group_max(x, {GROUP_NAME})\",\n",
    "      \"group_min(x, {GROUP_NAME})\"\n",
    "    ],\n",
    "    \"GROUP_NAME\": [\"sector\", \"industry\", \"subindustry\", \"group_cartesian_product(country, subindustry)\"],\n",
    "    \"DAY\": [\"5\", \"20\", \"60\", \"250\"],\n",
    "    \"template\": \"{GROUP_OP}({CROSS_OP}({TS_OP}(winsorize(ts_backfill({MATH_OP}({FACTOR}), {DAY})))))\"\n",
    "  }\n",
    "}\n"
   ]
  }
 ],
 "metadata": {
  "kernelspec": {
   "display_name": "bc-core-py3.12",
   "language": "python",
   "name": "python3"
  },
  "language_info": {
   "codemirror_mode": {
    "name": "ipython",
    "version": 3
   },
   "file_extension": ".py",
   "mimetype": "text/x-python",
   "name": "python",
   "nbconvert_exporter": "python",
   "pygments_lexer": "ipython3",
   "version": "3.12.2"
  }
 },
 "nbformat": 4,
 "nbformat_minor": 5
}
