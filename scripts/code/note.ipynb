{
 "cells": [
  {
   "cell_type": "markdown",
   "id": "f7d57c73",
   "metadata": {},
   "source": [
    "我用的就是课上老师给的模版：\n",
    "\n",
    "一阶用的是主流的TS时间序列，天数基本面的话就66 120  \n",
    "\n",
    "二阶用的主流的group，针对不同的region以外有一些常用的动态分组字段  \n",
    "\n",
    "有时候会有三阶 用trade when，一般为了减少一个alpha的操作符信号比较好二阶就停掉了。\n",
    "\n",
    "这种时候一阶跑完经常会有很多相似的表达式，就需要进行分组减枝，来提高二阶的效率\n",
    "\n",
    "此外有了结果以后再根据字段进行setting（region universe netrualization等）的遍历，找最好的去交"
   ]
  },
  {
   "cell_type": "markdown",
   "id": "19499a9b",
   "metadata": {},
   "source": [
    "alpha 提交要求\n",
    "1. fitness > 1.5\n",
    "2. sharp > 2\n",
    "3. margin > 10%\n",
    "\n",
    "\n",
    "https://support.worldquantbrain.com/hc/zh-cn/community/posts/27319802497687-%E5%A6%82%E4%BD%95%E6%89%BE%E5%88%B0%E6%9B%B4%E5%A4%9Aalpha%E7%9A%84%E6%80%9D%E8%80%83-%E6%96%B0%E6%89%8B%E8%BF%9B%E9%98%B6%E7%AF%87-%E7%B3%BB%E5%88%97-%E7%AC%AC%E4%B8%80%E7%AF%87-%E5%8D%95%E6%95%B0%E6%8D%AE%E5%AD%97%E6%AE%B5\n",
    "\n",
    "\n",
    "实际感受下来ASI，USA 经常可以比较容易找到，尤其是ASI，可以选择Country或者FAST作为中性化方式。但这只是我的经验，具体原因还请水平更高的同学来补充。比如ASI的fundamental 65就有很多。"
   ]
  },
  {
   "cell_type": "markdown",
   "id": "6bed6374",
   "metadata": {},
   "source": [
    "通常一阶用来寻找信号，我们寻找一阶中sharpe大于1.2且fitness大于0.5的信号，为了方便二阶get alpha，可在一阶simulate时加上开始和结束时间，二阶修改get_alphas函数的时间来get到一阶所跑到的数据，三阶同样的道理。\n",
    "每天跑到的有信号的fields可以保存起来，方便以后使用"
   ]
  }
 ],
 "metadata": {
  "language_info": {
   "name": "python"
  }
 },
 "nbformat": 4,
 "nbformat_minor": 5
}
